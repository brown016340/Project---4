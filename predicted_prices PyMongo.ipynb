{
 "cells": [
  {
   "cell_type": "code",
   "execution_count": null,
   "id": "676a736a",
   "metadata": {},
   "outputs": [],
   "source": [
    "# Import dependencies\n",
    "from pymongo import MongoClient\n",
    "from pprint import pprint"
   ]
  },
  {
   "cell_type": "code",
   "execution_count": null,
   "id": "47de068a",
   "metadata": {},
   "outputs": [],
   "source": [
    "# Create an instance of MongoClient\n",
    "mongo = MongoClient(port=27017)"
   ]
  },
  {
   "cell_type": "code",
   "execution_count": null,
   "id": "24a1d3f2",
   "metadata": {},
   "outputs": [],
   "source": [
    "# assign the database to a variable name\n",
    "db = mongo['predicted_prices']"
   ]
  },
  {
   "cell_type": "code",
   "execution_count": null,
   "id": "db1bd580",
   "metadata": {},
   "outputs": [],
   "source": [
    "# review the collections in our new database\n",
    "print(db.list_collection_names())"
   ]
  },
  {
   "cell_type": "code",
   "execution_count": null,
   "id": "b1aa9596",
   "metadata": {},
   "outputs": [],
   "source": [
    "# assign the collection to a variable\n",
    "predicted = db['predicted_pricesDB']"
   ]
  },
  {
   "cell_type": "code",
   "execution_count": null,
   "id": "0bcfe319",
   "metadata": {},
   "outputs": [],
   "source": [
    "# display the total number of documents in the predicted collection\n",
    "predicted.count_documents({})"
   ]
  },
  {
   "cell_type": "code",
   "execution_count": null,
   "id": "ca6b6e40",
   "metadata": {},
   "outputs": [],
   "source": [
    "# review a document in the predicted_prices collection\n",
    "print(db.predicted_pricesDB.find_one())"
   ]
  },
  {
   "cell_type": "code",
   "execution_count": null,
   "id": "2b91d5ad",
   "metadata": {},
   "outputs": [],
   "source": [
    "# find a car $15000 or less and sort in ascending order by odometer and limit the search to 10\n",
    "query = {'price': {'$lt': 15000}}\n",
    "sort = [('odometer', 1)]\n",
    "limit = 10\n",
    "pprint(list(predicted.find(query).sort(sort).limit(limit)))"
   ]
  },
  {
   "cell_type": "code",
   "execution_count": null,
   "id": "786f8208",
   "metadata": {},
   "outputs": [],
   "source": [
    "# create a query that finds the number of toyotas for sale\n",
    "query = {'manufacturer': 'toyota'}\n",
    "print(\"Number of documents in result:\", predicted.count_documents(query))"
   ]
  },
  {
   "cell_type": "code",
   "execution_count": null,
   "id": "a3bd9770",
   "metadata": {},
   "outputs": [],
   "source": [
    "# create a query that finds a toyota\n",
    "query = {'manufacturer': 'toyota'}\n",
    "results = predicted.find(query)\n",
    "for result in results:\n",
    "    pprint(result)"
   ]
  },
  {
   "cell_type": "code",
   "execution_count": null,
   "id": "b558c718",
   "metadata": {},
   "outputs": [],
   "source": [
    "# find hybrid fuel toyota\n",
    "print(db.predicted_pricesDB.find_one({\"manufacturer\": \"toyota\",\"fuel\": \"hybrid\"}))"
   ]
  },
  {
   "cell_type": "code",
   "execution_count": null,
   "id": "db23bd87",
   "metadata": {},
   "outputs": [],
   "source": [
    "# select only the toyotas that are hybrid fuel from the predicted collection\n",
    "query = {}\n",
    "fields = {'manufacturer': \"toyota\", 'fuel': 'hybrid'}\n",
    "results = predicted.find(query, fields)\n",
    "for result in results:\n",
    "    pprint(result)"
   ]
  },
  {
   "cell_type": "code",
   "execution_count": null,
   "id": "c19ad97d",
   "metadata": {},
   "outputs": [],
   "source": [
    "predicted.count_documents({'standard_model': 'prius'})"
   ]
  },
  {
   "cell_type": "code",
   "execution_count": null,
   "id": "411e1882",
   "metadata": {},
   "outputs": [],
   "source": [
    "# delete an entry\n",
    "predicted.delete_many({'standard_model': 'prius'})"
   ]
  },
  {
   "cell_type": "code",
   "execution_count": null,
   "id": "d6277051",
   "metadata": {},
   "outputs": [],
   "source": [
    "predicted.count_documents({'standard_model': 'prius'})"
   ]
  },
  {
   "cell_type": "code",
   "execution_count": null,
   "id": "f8930e86",
   "metadata": {},
   "outputs": [],
   "source": [
    "query = {'manufacturer': 'toyota'}\n",
    "print(\"Number of documents in result:\", predicted.count_documents(query))"
   ]
  },
  {
   "cell_type": "code",
   "execution_count": null,
   "id": "ac9aece6",
   "metadata": {},
   "outputs": [],
   "source": [
    "predicted.count_documents({})"
   ]
  }
 ],
 "metadata": {
  "kernelspec": {
   "display_name": "Python 3 (ipykernel)",
   "language": "python",
   "name": "python3"
  },
  "language_info": {
   "codemirror_mode": {
    "name": "ipython",
    "version": 3
   },
   "file_extension": ".py",
   "mimetype": "text/x-python",
   "name": "python",
   "nbconvert_exporter": "python",
   "pygments_lexer": "ipython3",
   "version": "3.11.4"
  }
 },
 "nbformat": 4,
 "nbformat_minor": 5
}
