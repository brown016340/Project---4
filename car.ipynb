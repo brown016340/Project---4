{
 "cells": [
  {
   "cell_type": "code",
   "execution_count": 3,
   "metadata": {},
   "outputs": [
    {
     "name": "stderr",
     "output_type": "stream",
     "text": [
      "c:\\Users\\Brown\\anaconda3\\envs\\dev\\Lib\\site-packages\\fuzzywuzzy\\fuzz.py:11: UserWarning: Using slow pure-python SequenceMatcher. Install python-Levenshtein to remove this warning\n",
      "  warnings.warn('Using slow pure-python SequenceMatcher. Install python-Levenshtein to remove this warning')\n"
     ]
    }
   ],
   "source": [
    "import pandas as pd \n",
    "from fuzzywuzzy import process"
   ]
  },
  {
   "cell_type": "code",
   "execution_count": null,
   "metadata": {},
   "outputs": [],
   "source": [
    "path = \"E:/Data analytics bootcamp/Challenges/final/data/vehicles.csv\"\n",
    "df = pd.read_csv(path)\n",
    "df.head()"
   ]
  },
  {
   "cell_type": "code",
   "execution_count": null,
   "metadata": {},
   "outputs": [],
   "source": [
    "df.columns"
   ]
  },
  {
   "cell_type": "code",
   "execution_count": null,
   "metadata": {},
   "outputs": [],
   "source": [
    "dropped_df = df.drop(columns=['url', 'region', 'region_url', 'image_url', 'description', 'county', 'lat', 'long', 'posting_date', 'VIN', 'size', 'id'])"
   ]
  },
  {
   "cell_type": "code",
   "execution_count": null,
   "metadata": {},
   "outputs": [],
   "source": [
    "df_droppedna = dropped_df.dropna(axis=0, how='any')\n",
    "df_droppedna"
   ]
  },
  {
   "cell_type": "code",
   "execution_count": null,
   "metadata": {},
   "outputs": [],
   "source": [
    "df_sorted = df_droppedna.sort_values(by='manufacturer')\n",
    "df_sorted.head()"
   ]
  },
  {
   "cell_type": "code",
   "execution_count": null,
   "metadata": {},
   "outputs": [],
   "source": [
    "# lookup list of makes of our data\n",
    "makes = df_sorted['manufacturer'].unique()\n",
    "print(makes)"
   ]
  },
  {
   "cell_type": "code",
   "execution_count": null,
   "metadata": {},
   "outputs": [],
   "source": [
    "# seperate into each make using lookup list\n",
    "manufacturer_dfs = {}\n",
    "\n",
    "for manufacturer in makes:\n",
    "    # Create a DataFrame for each manufacturer\n",
    "    manufacturer_dfs[manufacturer] = df_sorted[df_sorted['manufacturer'] == manufacturer]"
   ]
  },
  {
   "cell_type": "code",
   "execution_count": null,
   "metadata": {},
   "outputs": [],
   "source": [
    "# begin splitting into makes dfs\n",
    "toyota_df = manufacturer_dfs['toyota']\n"
   ]
  },
  {
   "cell_type": "code",
   "execution_count": null,
   "metadata": {},
   "outputs": [],
   "source": [
    "# see how messy models are\n",
    "toyota_models = toyota_df['model'].unique()\n",
    "print(toyota_models)"
   ]
  },
  {
   "cell_type": "code",
   "execution_count": null,
   "metadata": {},
   "outputs": [],
   "source": [
    "# first attempt model cleaning\n",
    "from fuzzywuzzy import process\n",
    "\n",
    "toyota_df['model'] = toyota_df['model'].str.lower()\n",
    "\n",
    "# Define a list of standard model names\n",
    "standard_models = ['tacoma', 'camry', 'corolla', 'prius', 'rav4', '4runner', 'tundra', 'prius', 'land cruiser', 'sienna', 'highlander', 'avalon', 'matrix', 'solara', '86', 'hiace', 'venza', 'yaris', 'celica', 'van', 'supra', 'townace', 'litace', 'tercel', 'mr2', 'chr'] \n",
    "\n",
    "# Use fuzzywuzzy's process.extractOne to find the best match for each model\n",
    "# toyota_df['standard_model'] = toyota_df['model'].apply(lambda x: process.extractOne(x, standard_models)[0])\n",
    "# relys on hardcoding and string matching, works but you have to manually find the correct model name, not ideal"
   ]
  },
  {
   "cell_type": "markdown",
   "metadata": {},
   "source": [
    "Read CSV containing car makes and models to standardize models in above"
   ]
  },
  {
   "cell_type": "code",
   "execution_count": null,
   "metadata": {},
   "outputs": [],
   "source": [
    "path = \"E:/Data analytics bootcamp/Challenges/final/data/Car Dataset 1945-2020.xlsx\"\n",
    "cars_df = pd.read_excel(path)\n",
    "cars_df.head()"
   ]
  },
  {
   "cell_type": "code",
   "execution_count": null,
   "metadata": {},
   "outputs": [],
   "source": [
    "cars_df = cars_df[['Make', 'Modle']]\n",
    "cars_df"
   ]
  },
  {
   "cell_type": "code",
   "execution_count": null,
   "metadata": {},
   "outputs": [],
   "source": [
    "cars_df.rename(columns={'Modle': 'model'}, inplace=True)\n",
    "cars_df.head()"
   ]
  },
  {
   "cell_type": "code",
   "execution_count": null,
   "metadata": {},
   "outputs": [],
   "source": [
    "# convert to lower to match our lookup list made earlier\n",
    "cars_df['Make'] = cars_df['Make'].str.lower()\n",
    "cars_df['model'] = cars_df['model'].str.lower()\n",
    "cars_df"
   ]
  },
  {
   "cell_type": "code",
   "execution_count": null,
   "metadata": {},
   "outputs": [],
   "source": [
    "# Seperate into different dfs for each make using lookup list \n",
    "makes_dfs = {}\n",
    "\n",
    "for manufacturer in makes:\n",
    "    # Create a DataFrame for each manufacturer\n",
    "    makes_dfs[manufacturer] = cars_df[cars_df['Make'].str.lower() == manufacturer]"
   ]
  },
  {
   "cell_type": "code",
   "execution_count": null,
   "metadata": {},
   "outputs": [],
   "source": [
    "# yota makes df \n",
    "toyota_makes_df = makes_dfs['toyota']\n",
    "toyota_makes_df.drop_duplicates(inplace=True)\n",
    "toyota_makes_df"
   ]
  },
  {
   "cell_type": "code",
   "execution_count": null,
   "metadata": {},
   "outputs": [],
   "source": [
    "# attempt 2 using standard list made above\n",
    "\n",
    "toyota_df['model'] = toyota_df['model'].str.lower()\n",
    "\n",
    "# Define a list of standard model names\n",
    "standard_models = toyota_makes_df['model']"
   ]
  },
  {
   "cell_type": "code",
   "execution_count": null,
   "metadata": {},
   "outputs": [],
   "source": [
    "threshold = 75  # Set your desired confidence threshold\n",
    "\n",
    "# Define a function to apply to each row\n",
    "def fuzzy_match(x):\n",
    "    result = process.extractOne(x, standard_models)\n",
    "    return result[0], result[1]\n",
    "\n",
    "# Apply the function to the 'model' column\n",
    "toyota_df[['standard_model', 'confidence']] = toyota_df['model'].apply(lambda x: pd.Series(fuzzy_match(x)))\n"
   ]
  },
  {
   "cell_type": "code",
   "execution_count": null,
   "metadata": {},
   "outputs": [],
   "source": [
    "# Define a function to apply to each row\n",
    "def fuzzy_match(x):\n",
    "    result = process.extractOne(x, standard_models)\n",
    "    return result[0], result[1]\n",
    "\n",
    "# Apply the function to the 'model' column\n",
    "df_sorted[['standard_model', 'confidence']] = df_sorted['model'].apply(lambda x: pd.Series(fuzzy_match(x)))"
   ]
  },
  {
   "cell_type": "code",
   "execution_count": null,
   "metadata": {},
   "outputs": [],
   "source": [
    "path = \"E:/Data analytics bootcamp/Challenges/final/data/final.csv\"\n",
    "\n",
    "df_sorted.to_csv(path)"
   ]
  },
  {
   "cell_type": "code",
   "execution_count": 4,
   "metadata": {},
   "outputs": [],
   "source": [
    "from sklearn import preprocessing\n",
    "import pandas as pd\n",
    "le = preprocessing.LabelEncoder()"
   ]
  },
  {
   "cell_type": "code",
   "execution_count": 7,
   "metadata": {},
   "outputs": [],
   "source": [
    "path = \"E:/Data analytics bootcamp/Challenges/final/data/final.csv\"\n",
    "df = pd.read_csv(path)"
   ]
  },
  {
   "cell_type": "code",
   "execution_count": 8,
   "metadata": {},
   "outputs": [
    {
     "data": {
      "text/html": [
       "<div>\n",
       "<style scoped>\n",
       "    .dataframe tbody tr th:only-of-type {\n",
       "        vertical-align: middle;\n",
       "    }\n",
       "\n",
       "    .dataframe tbody tr th {\n",
       "        vertical-align: top;\n",
       "    }\n",
       "\n",
       "    .dataframe thead th {\n",
       "        text-align: right;\n",
       "    }\n",
       "</style>\n",
       "<table border=\"1\" class=\"dataframe\">\n",
       "  <thead>\n",
       "    <tr style=\"text-align: right;\">\n",
       "      <th></th>\n",
       "      <th>price</th>\n",
       "      <th>year</th>\n",
       "      <th>manufacturer</th>\n",
       "      <th>model</th>\n",
       "      <th>condition</th>\n",
       "      <th>cylinders</th>\n",
       "      <th>fuel</th>\n",
       "      <th>odometer</th>\n",
       "      <th>title_status</th>\n",
       "      <th>transmission</th>\n",
       "      <th>drive</th>\n",
       "      <th>type</th>\n",
       "      <th>paint_color</th>\n",
       "      <th>state</th>\n",
       "      <th>standard_model</th>\n",
       "      <th>confidence</th>\n",
       "    </tr>\n",
       "  </thead>\n",
       "  <tbody>\n",
       "    <tr>\n",
       "      <th>0</th>\n",
       "      <td>24990</td>\n",
       "      <td>2018</td>\n",
       "      <td>acura</td>\n",
       "      <td>tlx 3.5 w/technology pkg</td>\n",
       "      <td>good</td>\n",
       "      <td>6 cylinders</td>\n",
       "      <td>other</td>\n",
       "      <td>45464</td>\n",
       "      <td>clean</td>\n",
       "      <td>other</td>\n",
       "      <td>fwd</td>\n",
       "      <td>sedan</td>\n",
       "      <td>blue</td>\n",
       "      <td>oh</td>\n",
       "      <td>echo</td>\n",
       "      <td>68</td>\n",
       "    </tr>\n",
       "    <tr>\n",
       "      <th>1</th>\n",
       "      <td>2399</td>\n",
       "      <td>2003</td>\n",
       "      <td>acura</td>\n",
       "      <td>mdx</td>\n",
       "      <td>fair</td>\n",
       "      <td>6 cylinders</td>\n",
       "      <td>gas</td>\n",
       "      <td>143000</td>\n",
       "      <td>clean</td>\n",
       "      <td>automatic</td>\n",
       "      <td>4wd</td>\n",
       "      <td>SUV</td>\n",
       "      <td>grey</td>\n",
       "      <td>nj</td>\n",
       "      <td>model f</td>\n",
       "      <td>60</td>\n",
       "    </tr>\n",
       "    <tr>\n",
       "      <th>2</th>\n",
       "      <td>0</td>\n",
       "      <td>2008</td>\n",
       "      <td>acura</td>\n",
       "      <td>tl type s</td>\n",
       "      <td>like new</td>\n",
       "      <td>6 cylinders</td>\n",
       "      <td>gas</td>\n",
       "      <td>99000</td>\n",
       "      <td>clean</td>\n",
       "      <td>automatic</td>\n",
       "      <td>fwd</td>\n",
       "      <td>sedan</td>\n",
       "      <td>black</td>\n",
       "      <td>nj</td>\n",
       "      <td>mr-s</td>\n",
       "      <td>86</td>\n",
       "    </tr>\n",
       "    <tr>\n",
       "      <th>3</th>\n",
       "      <td>10950</td>\n",
       "      <td>2012</td>\n",
       "      <td>acura</td>\n",
       "      <td>tsx</td>\n",
       "      <td>good</td>\n",
       "      <td>4 cylinders</td>\n",
       "      <td>gas</td>\n",
       "      <td>115162</td>\n",
       "      <td>clean</td>\n",
       "      <td>automatic</td>\n",
       "      <td>fwd</td>\n",
       "      <td>sedan</td>\n",
       "      <td>white</td>\n",
       "      <td>ks</td>\n",
       "      <td>sports 800</td>\n",
       "      <td>68</td>\n",
       "    </tr>\n",
       "    <tr>\n",
       "      <th>4</th>\n",
       "      <td>30995</td>\n",
       "      <td>2018</td>\n",
       "      <td>acura</td>\n",
       "      <td>mdx sh-awd</td>\n",
       "      <td>like new</td>\n",
       "      <td>6 cylinders</td>\n",
       "      <td>gas</td>\n",
       "      <td>48743</td>\n",
       "      <td>clean</td>\n",
       "      <td>automatic</td>\n",
       "      <td>4wd</td>\n",
       "      <td>SUV</td>\n",
       "      <td>grey</td>\n",
       "      <td>nj</td>\n",
       "      <td>c-hr</td>\n",
       "      <td>49</td>\n",
       "    </tr>\n",
       "  </tbody>\n",
       "</table>\n",
       "</div>"
      ],
      "text/plain": [
       "   price  year manufacturer                     model condition    cylinders  \\\n",
       "0  24990  2018        acura  tlx 3.5 w/technology pkg      good  6 cylinders   \n",
       "1   2399  2003        acura                       mdx      fair  6 cylinders   \n",
       "2      0  2008        acura                 tl type s  like new  6 cylinders   \n",
       "3  10950  2012        acura                       tsx      good  4 cylinders   \n",
       "4  30995  2018        acura                mdx sh-awd  like new  6 cylinders   \n",
       "\n",
       "    fuel  odometer title_status transmission drive   type paint_color state  \\\n",
       "0  other     45464        clean        other   fwd  sedan        blue    oh   \n",
       "1    gas    143000        clean    automatic   4wd    SUV        grey    nj   \n",
       "2    gas     99000        clean    automatic   fwd  sedan       black    nj   \n",
       "3    gas    115162        clean    automatic   fwd  sedan       white    ks   \n",
       "4    gas     48743        clean    automatic   4wd    SUV        grey    nj   \n",
       "\n",
       "  standard_model  confidence  \n",
       "0           echo          68  \n",
       "1        model f          60  \n",
       "2           mr-s          86  \n",
       "3     sports 800          68  \n",
       "4           c-hr          49  "
      ]
     },
     "execution_count": 8,
     "metadata": {},
     "output_type": "execute_result"
    }
   ],
   "source": [
    "df.head()"
   ]
  },
  {
   "cell_type": "code",
   "execution_count": 9,
   "metadata": {},
   "outputs": [
    {
     "data": {
      "text/plain": [
       "Index(['price', 'year', 'manufacturer', 'model', 'condition', 'cylinders',\n",
       "       'fuel', 'odometer', 'title_status', 'transmission', 'drive', 'type',\n",
       "       'paint_color', 'state', 'standard_model', 'confidence'],\n",
       "      dtype='object')"
      ]
     },
     "execution_count": 9,
     "metadata": {},
     "output_type": "execute_result"
    }
   ],
   "source": [
    "df.columns"
   ]
  },
  {
   "cell_type": "code",
   "execution_count": 10,
   "metadata": {},
   "outputs": [],
   "source": [
    "df[['manufacturer', 'condition',\n",
    "       'cylinders', 'fuel', 'title_status', 'transmission',\n",
    "       'drive', 'type', 'paint_color', 'state', 'standard_model']]=df[['manufacturer', 'condition',\n",
    "       'cylinders', 'fuel', 'title_status', 'transmission',\n",
    "       'drive', 'type', 'paint_color', 'state', 'standard_model']].apply(le.fit_transform)"
   ]
  },
  {
   "cell_type": "code",
   "execution_count": 11,
   "metadata": {},
   "outputs": [
    {
     "data": {
      "text/html": [
       "<div>\n",
       "<style scoped>\n",
       "    .dataframe tbody tr th:only-of-type {\n",
       "        vertical-align: middle;\n",
       "    }\n",
       "\n",
       "    .dataframe tbody tr th {\n",
       "        vertical-align: top;\n",
       "    }\n",
       "\n",
       "    .dataframe thead th {\n",
       "        text-align: right;\n",
       "    }\n",
       "</style>\n",
       "<table border=\"1\" class=\"dataframe\">\n",
       "  <thead>\n",
       "    <tr style=\"text-align: right;\">\n",
       "      <th></th>\n",
       "      <th>price</th>\n",
       "      <th>year</th>\n",
       "      <th>manufacturer</th>\n",
       "      <th>model</th>\n",
       "      <th>condition</th>\n",
       "      <th>cylinders</th>\n",
       "      <th>fuel</th>\n",
       "      <th>odometer</th>\n",
       "      <th>title_status</th>\n",
       "      <th>transmission</th>\n",
       "      <th>drive</th>\n",
       "      <th>type</th>\n",
       "      <th>paint_color</th>\n",
       "      <th>state</th>\n",
       "      <th>standard_model</th>\n",
       "      <th>confidence</th>\n",
       "    </tr>\n",
       "  </thead>\n",
       "  <tbody>\n",
       "    <tr>\n",
       "      <th>0</th>\n",
       "      <td>24990</td>\n",
       "      <td>2018</td>\n",
       "      <td>0</td>\n",
       "      <td>tlx 3.5 w/technology pkg</td>\n",
       "      <td>2</td>\n",
       "      <td>5</td>\n",
       "      <td>4</td>\n",
       "      <td>45464</td>\n",
       "      <td>0</td>\n",
       "      <td>2</td>\n",
       "      <td>1</td>\n",
       "      <td>9</td>\n",
       "      <td>1</td>\n",
       "      <td>35</td>\n",
       "      <td>54</td>\n",
       "      <td>68</td>\n",
       "    </tr>\n",
       "    <tr>\n",
       "      <th>1</th>\n",
       "      <td>2399</td>\n",
       "      <td>2003</td>\n",
       "      <td>0</td>\n",
       "      <td>mdx</td>\n",
       "      <td>1</td>\n",
       "      <td>5</td>\n",
       "      <td>2</td>\n",
       "      <td>143000</td>\n",
       "      <td>0</td>\n",
       "      <td>0</td>\n",
       "      <td>0</td>\n",
       "      <td>0</td>\n",
       "      <td>5</td>\n",
       "      <td>31</td>\n",
       "      <td>87</td>\n",
       "      <td>60</td>\n",
       "    </tr>\n",
       "    <tr>\n",
       "      <th>2</th>\n",
       "      <td>0</td>\n",
       "      <td>2008</td>\n",
       "      <td>0</td>\n",
       "      <td>tl type s</td>\n",
       "      <td>3</td>\n",
       "      <td>5</td>\n",
       "      <td>2</td>\n",
       "      <td>99000</td>\n",
       "      <td>0</td>\n",
       "      <td>0</td>\n",
       "      <td>1</td>\n",
       "      <td>9</td>\n",
       "      <td>0</td>\n",
       "      <td>31</td>\n",
       "      <td>88</td>\n",
       "      <td>86</td>\n",
       "    </tr>\n",
       "    <tr>\n",
       "      <th>3</th>\n",
       "      <td>10950</td>\n",
       "      <td>2012</td>\n",
       "      <td>0</td>\n",
       "      <td>tsx</td>\n",
       "      <td>2</td>\n",
       "      <td>3</td>\n",
       "      <td>2</td>\n",
       "      <td>115162</td>\n",
       "      <td>0</td>\n",
       "      <td>0</td>\n",
       "      <td>1</td>\n",
       "      <td>9</td>\n",
       "      <td>10</td>\n",
       "      <td>16</td>\n",
       "      <td>131</td>\n",
       "      <td>68</td>\n",
       "    </tr>\n",
       "    <tr>\n",
       "      <th>4</th>\n",
       "      <td>30995</td>\n",
       "      <td>2018</td>\n",
       "      <td>0</td>\n",
       "      <td>mdx sh-awd</td>\n",
       "      <td>3</td>\n",
       "      <td>5</td>\n",
       "      <td>2</td>\n",
       "      <td>48743</td>\n",
       "      <td>0</td>\n",
       "      <td>0</td>\n",
       "      <td>0</td>\n",
       "      <td>0</td>\n",
       "      <td>5</td>\n",
       "      <td>31</td>\n",
       "      <td>21</td>\n",
       "      <td>49</td>\n",
       "    </tr>\n",
       "  </tbody>\n",
       "</table>\n",
       "</div>"
      ],
      "text/plain": [
       "   price  year  manufacturer                     model  condition  cylinders  \\\n",
       "0  24990  2018             0  tlx 3.5 w/technology pkg          2          5   \n",
       "1   2399  2003             0                       mdx          1          5   \n",
       "2      0  2008             0                 tl type s          3          5   \n",
       "3  10950  2012             0                       tsx          2          3   \n",
       "4  30995  2018             0                mdx sh-awd          3          5   \n",
       "\n",
       "   fuel  odometer  title_status  transmission  drive  type  paint_color  \\\n",
       "0     4     45464             0             2      1     9            1   \n",
       "1     2    143000             0             0      0     0            5   \n",
       "2     2     99000             0             0      1     9            0   \n",
       "3     2    115162             0             0      1     9           10   \n",
       "4     2     48743             0             0      0     0            5   \n",
       "\n",
       "   state  standard_model  confidence  \n",
       "0     35              54          68  \n",
       "1     31              87          60  \n",
       "2     31              88          86  \n",
       "3     16             131          68  \n",
       "4     31              21          49  "
      ]
     },
     "execution_count": 11,
     "metadata": {},
     "output_type": "execute_result"
    }
   ],
   "source": [
    "df.head()"
   ]
  },
  {
   "cell_type": "code",
   "execution_count": null,
   "metadata": {},
   "outputs": [],
   "source": [
    "path = \"E:/Data analytics bootcamp/Challenges/final/data/test.csv\"\n",
    "df.to_csv(path)"
   ]
  }
 ],
 "metadata": {
  "kernelspec": {
   "display_name": "dev",
   "language": "python",
   "name": "python3"
  },
  "language_info": {
   "codemirror_mode": {
    "name": "ipython",
    "version": 3
   },
   "file_extension": ".py",
   "mimetype": "text/x-python",
   "name": "python",
   "nbconvert_exporter": "python",
   "pygments_lexer": "ipython3",
   "version": "3.11.5"
  }
 },
 "nbformat": 4,
 "nbformat_minor": 2
}
